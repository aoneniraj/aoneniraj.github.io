{
  "nbformat": 4,
  "nbformat_minor": 0,
  "metadata": {
    "colab": {
      "provenance": [],
      "authorship_tag": "ABX9TyNVDWLoqqMwsJRtcx58FL4v",
      "include_colab_link": true
    },
    "kernelspec": {
      "name": "python3",
      "display_name": "Python 3"
    },
    "language_info": {
      "name": "python"
    }
  },
  "cells": [
    {
      "cell_type": "markdown",
      "metadata": {
        "id": "view-in-github",
        "colab_type": "text"
      },
      "source": [
        "<a href=\"https://colab.research.google.com/github/aoneniraj/aoneniraj.github.io/blob/master/Untitled0.ipynb\" target=\"_parent\"><img src=\"https://colab.research.google.com/assets/colab-badge.svg\" alt=\"Open In Colab\"/></a>"
      ]
    },
    {
      "cell_type": "code",
      "execution_count": 3,
      "metadata": {
        "colab": {
          "base_uri": "https://localhost:8080/"
        },
        "id": "D4OPbv3d1xPb",
        "outputId": "2efbe0b0-60af-479a-d3c2-be9cdbd3943c"
      },
      "outputs": [
        {
          "output_type": "stream",
          "name": "stdout",
          "text": [
            "D\n"
          ]
        }
      ],
      "source": [
        "score1 = 80\n",
        "score2 = 70\n",
        "avg_score = (score1 +score2)/2\n",
        "if( avg_score >= 80):\n",
        "    print(\"HD\")\n",
        "elif( avg_score >= 70):\n",
        "    print(\"D\")\n",
        "elif( avg_score >= 60 ):\n",
        "    print(\"C\")\n",
        "elif( avg_score >= 50):\n",
        "    print(\"P\")\n",
        "else:\n",
        "    print(\"F\")\n",
        "\n"
      ]
    }
  ]
}